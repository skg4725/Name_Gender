{
 "cells": [
  {
   "cell_type": "markdown",
   "id": "ad47d452",
   "metadata": {},
   "source": [
    "# Using Neural Network Predict the gender given the name"
   ]
  },
  {
   "cell_type": "markdown",
   "id": "bd2aded0",
   "metadata": {},
   "source": [
    "Importing Required libraries"
   ]
  },
  {
   "cell_type": "code",
   "execution_count": 1,
   "id": "8d271205",
   "metadata": {},
   "outputs": [],
   "source": [
    "import numpy as np\n",
    "import pandas as pd\n",
    "import tensorflow as tf\n",
    "import matplotlib.pyplot as plt\n",
    "from tensorflow.keras.layers import Dense\n",
    "from tensorflow.keras.models import Sequential\n",
    "from tensorflow.keras import preprocessing\n",
    "from tensorflow.keras.losses import BinaryCrossentropy\n",
    "from tensorflow.keras import regularizers\n",
    "from sklearn.model_selection import train_test_split\n",
    "from sklearn.metrics import f1_score, precision_score, recall_score, accuracy_score"
   ]
  },
  {
   "cell_type": "markdown",
   "id": "b3d44e26",
   "metadata": {},
   "source": [
    "Reading data from csv file stored in github"
   ]
  },
  {
   "cell_type": "code",
   "execution_count": 2,
   "id": "de152224",
   "metadata": {},
   "outputs": [
    {
     "name": "stdout",
     "output_type": "stream",
     "text": [
      "Num GPUs Available:  0\n"
     ]
    }
   ],
   "source": [
    "print(\"Num GPUs Available: \", len(tf.config.list_physical_devices('GPU')))"
   ]
  },
  {
   "cell_type": "code",
   "execution_count": 3,
   "id": "ff884a9e",
   "metadata": {},
   "outputs": [],
   "source": [
    "df_male = pd.read_csv(\"https://gist.githubusercontent.com/mbejda/7f86ca901fe41bc14a63/raw/38adb475c14a3f44df9999c1541f3a72f472b30d/Indian-Male-Names.csv\")\n",
    "df_female = pd.read_csv(\"https://gist.githubusercontent.com/mbejda/9b93c7545c9dd93060bd/raw/b582593330765df3ccaae6f641f8cddc16f1e879/Indian-Female-Names.csv\")"
   ]
  },
  {
   "cell_type": "markdown",
   "id": "b59c7b9e",
   "metadata": {},
   "source": [
    "Extracting required columns i.e name and gender"
   ]
  },
  {
   "cell_type": "code",
   "execution_count": 4,
   "id": "4565771b",
   "metadata": {},
   "outputs": [
    {
     "name": "stdout",
     "output_type": "stream",
     "text": [
      "[['barjraj']\n",
      " ['ramdin verma']\n",
      " ['sharat chandran']\n",
      " ...\n",
      " ['manju d/0 baboo lal jatav']\n",
      " ['shivani']\n",
      " ['nayna']]\n",
      "[['m']\n",
      " ['m']\n",
      " ['m']\n",
      " ...\n",
      " ['f']\n",
      " ['f']\n",
      " ['f']]\n"
     ]
    }
   ],
   "source": [
    "df = pd.concat([df_male,df_female])\n",
    "data = df[['name','gender']].values\n",
    "x = data[:,:-1]\n",
    "y = data[:,1:]\n",
    "print(x)\n",
    "print(y)"
   ]
  },
  {
   "cell_type": "markdown",
   "id": "e35bb186",
   "metadata": {},
   "source": [
    "Data Visualization:"
   ]
  },
  {
   "cell_type": "code",
   "execution_count": 5,
   "id": "31a0c43d",
   "metadata": {},
   "outputs": [
    {
     "data": {
      "image/png": "[encoded data removed]",
      "text/plain": [
       "<Figure size 640x480 with 1 Axes>"
      ]
     },
     "metadata": {},
     "output_type": "display_data"
    }
   ],
   "source": [
    "gender_count={\"Male\":np.count_nonzero(y=='m'),\"Female\":np.count_nonzero(y=='f')}\n",
    "# Plot the distribution of genders\n",
    "plt.bar(gender_count.keys(), gender_count.values())\n",
    "plt.xlabel('Gender')\n",
    "plt.ylabel('Count')\n",
    "plt.title('Distribution of Gender in the Dataset')\n",
    "plt.show()"
   ]
  },
  {
   "cell_type": "markdown",
   "id": "260e3445",
   "metadata": {},
   "source": [
    "As some names may contain full name, splitting to get just first name"
   ]
  },
  {
   "cell_type": "code",
   "execution_count": 6,
   "id": "1893f59a",
   "metadata": {},
   "outputs": [
    {
     "name": "stdout",
     "output_type": "stream",
     "text": [
      "[['barjraj']\n",
      " ['ramdin']\n",
      " ['sharat']\n",
      " ...\n",
      " ['manju']\n",
      " ['shivani']\n",
      " ['nayna']]\n",
      "[['m']\n",
      " ['m']\n",
      " ['m']\n",
      " ...\n",
      " ['f']\n",
      " ['f']\n",
      " ['f']]\n"
     ]
    }
   ],
   "source": [
    "# Define a function to extract the first name\n",
    "def extract_first_name(full_name):\n",
    "    return str(full_name).split()[0]\n",
    "\n",
    "# Convert elements to strings and apply the function to each element in the array\n",
    "x = np.vectorize(extract_first_name, otypes=[str])(x)\n",
    "print(x)\n",
    "print(y)"
   ]
  },
  {
   "cell_type": "markdown",
   "id": "1c6a6ea9",
   "metadata": {},
   "source": [
    "Calculate the name with maximum length"
   ]
  },
  {
   "cell_type": "code",
   "execution_count": 7,
   "id": "454d9f42",
   "metadata": {},
   "outputs": [
    {
     "name": "stdout",
     "output_type": "stream",
     "text": [
      "Maximum Length:  23\n"
     ]
    }
   ],
   "source": [
    "def get_max_length(names):\n",
    "    max_length = max(len(name) for name in names)\n",
    "    return max_length\n",
    "\n",
    "max_length = get_max_length(x.reshape(-1))\n",
    "print(\"Maximum Length: \",max_length)"
   ]
  },
  {
   "cell_type": "markdown",
   "id": "223f0c37",
   "metadata": {},
   "source": [
    "Doing Binary one hot encoding to convert each name to max_length * 26 size"
   ]
  },
  {
   "cell_type": "code",
   "execution_count": 8,
   "id": "602901c7",
   "metadata": {},
   "outputs": [],
   "source": [
    "def one_hot_encoding(names,max_length):\n",
    "    names = np.char.lower(names)\n",
    "    x = np.zeros((names.shape[0],max_length,26))\n",
    "    for i in range(0,names.shape[0]):\n",
    "        for j in range(0,len(names[i,0])):\n",
    "            if(names[i,0][j]>='a' and names[i,0][j]<='z'):\n",
    "                char_index = ord(names[i,0][j])-ord('a')\n",
    "                x[i,j,char_index] = 1.0\n",
    "    return x"
   ]
  },
  {
   "cell_type": "markdown",
   "id": "3c117c5b",
   "metadata": {},
   "source": [
    "Converting y from m,f to 0,1 respectively\n",
    "Normalizing x values\n",
    "Converting x values of 2d array to 1d array of 23*26, to pass to neural input layer"
   ]
  },
  {
   "cell_type": "code",
   "execution_count": 9,
   "id": "574c91c2",
   "metadata": {},
   "outputs": [
    {
     "name": "stdout",
     "output_type": "stream",
     "text": [
      "(30227, 23, 26)\n",
      "(30227, 1)\n"
     ]
    },
    {
     "data": {
      "text/plain": [
       "(30227, 598)"
      ]
     },
     "execution_count": 9,
     "metadata": {},
     "output_type": "execute_result"
    }
   ],
   "source": [
    "x_encoded = one_hot_encoding(x,max_length)\n",
    "norm_l = tf.keras.layers.Normalization(axis=-1)\n",
    "norm_l.adapt(x_encoded)  # learns mean, variance\n",
    "normalized_model = Sequential([norm_l]);\n",
    "normalized_model.compile()\n",
    "x_norm = normalized_model(x_encoded)\n",
    "y_int = np.where(y=='m',0,1)\n",
    "x_norm = x_norm.numpy()\n",
    "print(x_norm.shape)\n",
    "print(y_int.shape)\n",
    "x_norm = x_norm.reshape(30227,23*26)\n",
    "x_norm.shape"
   ]
  },
  {
   "cell_type": "markdown",
   "id": "e2b817b1",
   "metadata": {},
   "source": [
    "Splitting the dataset to training and test dataset in 66% and 33%"
   ]
  },
  {
   "cell_type": "code",
   "execution_count": 10,
   "id": "1e4da63f",
   "metadata": {},
   "outputs": [
    {
     "name": "stdout",
     "output_type": "stream",
     "text": [
      "(20252, 598)\n",
      "(9975, 598)\n"
     ]
    }
   ],
   "source": [
    "X_train, X_test,Y_train, Y_test = train_test_split(x_norm,y_int,test_size=0.33,random_state=42)\n",
    "print(X_train.shape)\n",
    "print(X_test.shape)"
   ]
  },
  {
   "cell_type": "markdown",
   "id": "ffb42fb0",
   "metadata": {},
   "source": [
    "Creating a neural network model"
   ]
  },
  {
   "cell_type": "code",
   "execution_count": 11,
   "id": "2e184bf5",
   "metadata": {},
   "outputs": [
    {
     "name": "stdout",
     "output_type": "stream",
     "text": [
      "Epoch 1/10\n",
      "317/317 [==============================] - 2s 4ms/step - loss: 0.4070 - val_loss: 0.3491\n",
      "Epoch 2/10\n",
      "317/317 [==============================] - 1s 3ms/step - loss: 0.2780 - val_loss: 0.3106\n",
      "Epoch 3/10\n",
      "317/317 [==============================] - 1s 3ms/step - loss: 0.2466 - val_loss: 0.3186\n",
      "Epoch 4/10\n",
      "317/317 [==============================] - 1s 3ms/step - loss: 0.2272 - val_loss: 0.3004\n",
      "Epoch 5/10\n",
      "317/317 [==============================] - 1s 3ms/step - loss: 0.2143 - val_loss: 0.3042\n",
      "Epoch 6/10\n",
      "317/317 [==============================] - 1s 3ms/step - loss: 0.2047 - val_loss: 0.3048\n",
      "Epoch 7/10\n",
      "317/317 [==============================] - 1s 3ms/step - loss: 0.1996 - val_loss: 0.3184\n",
      "Epoch 8/10\n",
      "317/317 [==============================] - 1s 3ms/step - loss: 0.1958 - val_loss: 0.3168\n",
      "Epoch 9/10\n",
      "317/317 [==============================] - 1s 3ms/step - loss: 0.1912 - val_loss: 0.3219\n",
      "Epoch 10/10\n",
      "317/317 [==============================] - 1s 3ms/step - loss: 0.1890 - val_loss: 0.3147\n"
     ]
    }
   ],
   "source": [
    "model = Sequential([\n",
    "    Dense(598,'relu',kernel_regularizer = regularizers.L2(1e-4)),\n",
    "    Dense(54,'relu',kernel_regularizer = regularizers.L2(1e-4)),\n",
    "    Dense(1,'linear',kernel_regularizer = regularizers.L2(1e-4))\n",
    "])\n",
    "\n",
    "model.compile(loss=BinaryCrossentropy(from_logits = True),optimizer = tf.keras.optimizers.Adam(learning_rate=0.001))\n",
    "history = model.fit(X_train,Y_train,epochs=10,batch_size=64, validation_data=(X_test, Y_test))"
   ]
  },
  {
   "cell_type": "markdown",
   "id": "89915356",
   "metadata": {},
   "source": [
    "Printing model summary"
   ]
  },
  {
   "cell_type": "code",
   "execution_count": 12,
   "id": "abf60e75",
   "metadata": {},
   "outputs": [
    {
     "name": "stdout",
     "output_type": "stream",
     "text": [
      "Model: \"sequential_1\"\n",
      "_________________________________________________________________\n",
      " Layer (type)                Output Shape              Param #   \n",
      "=================================================================\n",
      " dense (Dense)               (None, 598)               358202    \n",
      "                                                                 \n",
      " dense_1 (Dense)             (None, 54)                32346     \n",
      "                                                                 \n",
      " dense_2 (Dense)             (None, 1)                 55        \n",
      "                                                                 \n",
      "=================================================================\n",
      "Total params: 390,603\n",
      "Trainable params: 390,603\n",
      "Non-trainable params: 0\n",
      "_________________________________________________________________\n"
     ]
    }
   ],
   "source": [
    "model.summary()"
   ]
  },
  {
   "cell_type": "code",
   "execution_count": 13,
   "id": "b9f86415",
   "metadata": {},
   "outputs": [
    {
     "data": {
      "image/png": "[encoded data removed]",
      "text/plain": [
       "<Figure size 640x480 with 1 Axes>"
      ]
     },
     "metadata": {},
     "output_type": "display_data"
    }
   ],
   "source": [
    "# Plot training and validation loss\n",
    "plt.plot(history.history['loss'], label='Training Loss')\n",
    "plt.plot(history.history['val_loss'], label='Validation Loss')\n",
    "plt.xlabel('Epoch')\n",
    "plt.ylabel('Loss')\n",
    "plt.title('Training and Validation Loss')\n",
    "plt.legend()\n",
    "plt.show()"
   ]
  },
  {
   "cell_type": "markdown",
   "id": "c62921cd",
   "metadata": {},
   "source": [
    "Predicting using test dataset, and printing F1 score, precision, recall, accuracy"
   ]
  },
  {
   "cell_type": "code",
   "execution_count": 14,
   "id": "fdcdc6d5",
   "metadata": {},
   "outputs": [
    {
     "name": "stdout",
     "output_type": "stream",
     "text": [
      "312/312 [==============================] - 0s 1ms/step\n",
      "F1 score: 0.9113645458183274\n",
      "Precision:  0.9200161583518481\n",
      "Recall:  0.9028741328047571\n",
      "Accuracy:  0.9111779448621554\n"
     ]
    }
   ],
   "source": [
    "Y_pred = model.predict(X_test)\n",
    "Y_pred = tf.nn.sigmoid(Y_pred)\n",
    "Y_pred = Y_pred.numpy()\n",
    "Y_pred = np.where(Y_pred<=0.5,0,1)\n",
    "f1 = f1_score(Y_test, Y_pred)\n",
    "precision = precision_score(Y_test,Y_pred)\n",
    "recall = recall_score(Y_test,Y_pred)\n",
    "accuracy = accuracy_score(Y_test, Y_pred)\n",
    "print(\"F1 score:\", f1)\n",
    "print(\"Precision: \", precision)\n",
    "print(\"Recall: \",recall)\n",
    "print(\"Accuracy: \",accuracy)"
   ]
  },
  {
   "cell_type": "markdown",
   "id": "79b6c788",
   "metadata": {},
   "source": [
    "Defining a function to predict the gender, given 2d numpy array of names"
   ]
  },
  {
   "cell_type": "code",
   "execution_count": 15,
   "id": "90e13bb5",
   "metadata": {},
   "outputs": [],
   "source": [
    "def predict(x_user):\n",
    "    x_user = one_hot_encoding(name,23)\n",
    "    x_user = normalized_model(x_user).numpy()\n",
    "    x_user = x_user.reshape(x_user.shape[0],23*26)\n",
    "    y_user = model.predict(x_user)\n",
    "    y_user = tf.nn.sigmoid(y_user)\n",
    "    y_user = y_user.numpy()\n",
    "    #print(y_user)\n",
    "    y_user = np.where(y_user>0.5,'F','M')\n",
    "    return y_user"
   ]
  },
  {
   "cell_type": "markdown",
   "id": "7ec2d013",
   "metadata": {},
   "source": [
    "Predicting the gender, based on name by calling predict function and print name and gender"
   ]
  },
  {
   "cell_type": "code",
   "execution_count": 16,
   "id": "e5ac5837",
   "metadata": {},
   "outputs": [
    {
     "name": "stdout",
     "output_type": "stream",
     "text": [
      "1/1 [==============================] - 0s 15ms/step\n",
      "Sweta\tF\n",
      "Shubham\tM\n",
      "Rohit\tM\n",
      "Anchal\tF\n",
      "Sakshi\tF\n",
      "Rahul\tM\n",
      "Gaurishankar\tM\n",
      "Radhe\tM\n",
      "Radha\tF\n",
      "Aryan\tM\n",
      "Ashwin\tM\n",
      "laddu\tM\n",
      "Nishtha\tF\n"
     ]
    }
   ],
   "source": [
    "name = np.array([['Sweta'],['Shubham'],['Rohit'],['Anchal'],\n",
    "                 ['Sakshi'],['Rahul'],['Gaurishankar'],\n",
    "                 ['Radhe'],['Radha'],['Aryan'],['Ashwin'],['laddu'],['Nishtha']])\n",
    "gender = predict(name)\n",
    "for i in range(name.shape[0]):\n",
    "    print(f'{name[i,0]}\\t{gender[i,0]}')"
   ]
  },
  {
   "cell_type": "code",
   "execution_count": 17,
   "id": "c5ee5e54",
   "metadata": {},
   "outputs": [
    {
     "name": "stdout",
     "output_type": "stream",
     "text": [
      "INFO:tensorflow:Assets written to: name_gender_model\\assets\n",
      "INFO:tensorflow:Assets written to: ng_normalized_model\\assets\n"
     ]
    }
   ],
   "source": [
    "model.save('name_gender_model')\n",
    "normalized_model.save(\"ng_normalized_model\")"
   ]
  },
  {
   "cell_type": "code",
   "execution_count": null,
   "id": "1a00296e",
   "metadata": {},
   "outputs": [],
   "source": []
  }
 ],
 "metadata": {
  "kernelspec": {
   "display_name": "Python 3 (ipykernel)",
   "language": "python",
   "name": "python3"
  },
  "language_info": {
   "codemirror_mode": {
    "name": "ipython",
    "version": 3
   },
   "file_extension": ".py",
   "mimetype": "text/x-python",
   "name": "python",
   "nbconvert_exporter": "python",
   "pygments_lexer": "ipython3",
   "version": "3.10.9"
  }
 },
 "nbformat": 4,
 "nbformat_minor": 5
}
