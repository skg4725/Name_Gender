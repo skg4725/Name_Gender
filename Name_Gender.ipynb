{
 "cells": [
  {
   "cell_type": "markdown",
   "id": "ad47d452",
   "metadata": {},
   "source": [
    "# Using Neural Network Predict the gender given the name"
   ]
  },
  {
   "cell_type": "markdown",
   "id": "bd2aded0",
   "metadata": {},
   "source": [
    "Importing Required libraries"
   ]
  },
  {
   "cell_type": "code",
   "execution_count": 12,
   "id": "8d271205",
   "metadata": {},
   "outputs": [],
   "source": [
    "import numpy as np\n",
    "import pandas as pd\n",
    "import tensorflow as tf\n",
    "import matplotlib.pyplot as plt\n",
    "from tensorflow.keras.layers import Dense\n",
    "from tensorflow.keras.models import Sequential\n",
    "from tensorflow.keras import preprocessing\n",
    "from tensorflow.keras.losses import BinaryCrossentropy\n",
    "from tensorflow.keras import regularizers\n",
    "from sklearn.model_selection import train_test_split\n",
    "from sklearn.metrics import f1_score, precision_score, recall_score, accuracy_score"
   ]
  },
  {
   "cell_type": "markdown",
   "id": "b3d44e26",
   "metadata": {},
   "source": [
    "Reading data from csv file stored in github"
   ]
  },
  {
   "cell_type": "code",
   "execution_count": 13,
   "id": "de152224",
   "metadata": {},
   "outputs": [
    {
     "name": "stdout",
     "output_type": "stream",
     "text": [
      "Num GPUs Available:  1\n"
     ]
    }
   ],
   "source": [
    "print(\"Num GPUs Available: \", len(tf.config.list_physical_devices('GPU')))"
   ]
  },
  {
   "cell_type": "code",
   "execution_count": 14,
   "id": "ff884a9e",
   "metadata": {},
   "outputs": [],
   "source": [
    "df_male = pd.read_csv(\"https://gist.githubusercontent.com/mbejda/7f86ca901fe41bc14a63/raw/38adb475c14a3f44df9999c1541f3a72f472b30d/Indian-Male-Names.csv\")\n",
    "df_female = pd.read_csv(\"https://gist.githubusercontent.com/mbejda/9b93c7545c9dd93060bd/raw/b582593330765df3ccaae6f641f8cddc16f1e879/Indian-Female-Names.csv\")"
   ]
  },
  {
   "cell_type": "markdown",
   "id": "b59c7b9e",
   "metadata": {},
   "source": [
    "Extracting required columns i.e name and gender"
   ]
  },
  {
   "cell_type": "code",
   "execution_count": 15,
   "id": "4565771b",
   "metadata": {},
   "outputs": [
    {
     "name": "stdout",
     "output_type": "stream",
     "text": [
      "[['barjraj']\n",
      " ['ramdin verma']\n",
      " ['sharat chandran']\n",
      " ...\n",
      " ['manju d/0 baboo lal jatav']\n",
      " ['shivani']\n",
      " ['nayna']]\n",
      "[['m']\n",
      " ['m']\n",
      " ['m']\n",
      " ...\n",
      " ['f']\n",
      " ['f']\n",
      " ['f']]\n"
     ]
    }
   ],
   "source": [
    "df = pd.concat([df_male,df_female])\n",
    "data = df[['name','gender']].values\n",
    "x = data[:,:-1]\n",
    "y = data[:,1:]\n",
    "print(x)\n",
    "print(y)"
   ]
  },
  {
   "cell_type": "markdown",
   "id": "e35bb186",
   "metadata": {},
   "source": [
    "Data Visualization:"
   ]
  },
  {
   "cell_type": "code",
   "execution_count": 16,
   "id": "31a0c43d",
   "metadata": {},
   "outputs": [
    {
     "data": {
      "image/png": "[encoded data removed]",
      "text/plain": [
       "<Figure size 640x480 with 1 Axes>"
      ]
     },
     "metadata": {},
     "output_type": "display_data"
    }
   ],
   "source": [
    "gender_count={\"Male\":np.count_nonzero(y=='m'),\"Female\":np.count_nonzero(y=='f')}\n",
    "# Plot the distribution of genders\n",
    "plt.bar(gender_count.keys(), gender_count.values())\n",
    "plt.xlabel('Gender')\n",
    "plt.ylabel('Count')\n",
    "plt.title('Distribution of Gender in the Dataset')\n",
    "plt.show()"
   ]
  },
  {
   "cell_type": "markdown",
   "id": "260e3445",
   "metadata": {},
   "source": [
    "As some names may contain full name, splitting to get just first name"
   ]
  },
  {
   "cell_type": "code",
   "execution_count": 17,
   "id": "1893f59a",
   "metadata": {},
   "outputs": [
    {
     "name": "stdout",
     "output_type": "stream",
     "text": [
      "[['barjraj']\n",
      " ['ramdin']\n",
      " ['sharat']\n",
      " ...\n",
      " ['manju']\n",
      " ['shivani']\n",
      " ['nayna']]\n",
      "[['m']\n",
      " ['m']\n",
      " ['m']\n",
      " ...\n",
      " ['f']\n",
      " ['f']\n",
      " ['f']]\n"
     ]
    }
   ],
   "source": [
    "# Define a function to extract the first name\n",
    "def extract_first_name(full_name):\n",
    "    return str(full_name).split()[0]\n",
    "\n",
    "# Convert elements to strings and apply the function to each element in the array\n",
    "x = np.vectorize(extract_first_name, otypes=[str])(x)\n",
    "print(x)\n",
    "print(y)"
   ]
  },
  {
   "cell_type": "markdown",
   "id": "1c6a6ea9",
   "metadata": {},
   "source": [
    "Calculate the name with maximum length"
   ]
  },
  {
   "cell_type": "code",
   "execution_count": 18,
   "id": "454d9f42",
   "metadata": {},
   "outputs": [
    {
     "name": "stdout",
     "output_type": "stream",
     "text": [
      "Maximum Length:  23\n"
     ]
    }
   ],
   "source": [
    "def get_max_length(names):\n",
    "    max_length = max(len(name) for name in names)\n",
    "    return max_length\n",
    "\n",
    "max_length = get_max_length(x.reshape(-1))\n",
    "print(\"Maximum Length: \",max_length)"
   ]
  },
  {
   "cell_type": "markdown",
   "id": "223f0c37",
   "metadata": {},
   "source": [
    "Doing Binary one hot encoding to convert each name to max_length * 26 size"
   ]
  },
  {
   "cell_type": "code",
   "execution_count": 19,
   "id": "602901c7",
   "metadata": {},
   "outputs": [],
   "source": [
    "def one_hot_encoding(names,max_length):\n",
    "    names = np.char.lower(names)\n",
    "    x = np.zeros((names.shape[0],max_length,26))\n",
    "    for i in range(0,names.shape[0]):\n",
    "        for j in range(0,len(names[i,0])):\n",
    "            if(names[i,0][j]>='a' and names[i,0][j]<='z'):\n",
    "                char_index = ord(names[i,0][j])-ord('a')\n",
    "                x[i,j,char_index] = 1.0\n",
    "    return x"
   ]
  },
  {
   "cell_type": "markdown",
   "id": "3c117c5b",
   "metadata": {},
   "source": [
    "Converting y from m,f to 0,1 respectively\n",
    "Normalizing x values\n",
    "Converting x values of 2d array to 1d array of 23*26, to pass to neural input layer"
   ]
  },
  {
   "cell_type": "code",
   "execution_count": 20,
   "id": "574c91c2",
   "metadata": {},
   "outputs": [
    {
     "name": "stdout",
     "output_type": "stream",
     "text": [
      "(30227, 23, 26)\n",
      "(30227, 1)\n"
     ]
    },
    {
     "data": {
      "text/plain": [
       "(30227, 598)"
      ]
     },
     "execution_count": 20,
     "metadata": {},
     "output_type": "execute_result"
    }
   ],
   "source": [
    "x_encoded = one_hot_encoding(x,max_length)\n",
    "norm_l = tf.keras.layers.Normalization(axis=-1)\n",
    "norm_l.adapt(x_encoded)  # learns mean, variance\n",
    "normalized_model = Sequential([norm_l]);\n",
    "normalized_model.compile()\n",
    "x_norm = normalized_model(x_encoded)\n",
    "y_int = np.where(y=='m',0,1)\n",
    "x_norm = x_norm.numpy()\n",
    "print(x_norm.shape)\n",
    "print(y_int.shape)\n",
    "x_norm = x_norm.reshape(30227,23*26)\n",
    "x_norm.shape"
   ]
  },
  {
   "cell_type": "markdown",
   "id": "e2b817b1",
   "metadata": {},
   "source": [
    "Splitting the dataset to training and test dataset in 66% and 33%"
   ]
  },
  {
   "cell_type": "code",
   "execution_count": 21,
   "id": "1e4da63f",
   "metadata": {},
   "outputs": [
    {
     "name": "stdout",
     "output_type": "stream",
     "text": [
      "(20252, 598)\n",
      "(9975, 598)\n"
     ]
    }
   ],
   "source": [
    "X_train, X_test,Y_train, Y_test = train_test_split(x_norm,y_int,test_size=0.33,random_state=42)\n",
    "print(X_train.shape)\n",
    "print(X_test.shape)"
   ]
  },
  {
   "cell_type": "markdown",
   "id": "ffb42fb0",
   "metadata": {},
   "source": [
    "Creating a neural network model"
   ]
  },
  {
   "cell_type": "code",
   "execution_count": 22,
   "id": "2e184bf5",
   "metadata": {},
   "outputs": [
    {
     "name": "stdout",
     "output_type": "stream",
     "text": [
      "Epoch 1/100\n",
      "317/317 [==============================] - 3s 7ms/step - loss: 0.6398 - val_loss: 0.4776\n",
      "Epoch 2/100\n",
      "317/317 [==============================] - 2s 8ms/step - loss: 0.4162 - val_loss: 0.4199\n",
      "Epoch 3/100\n",
      "317/317 [==============================] - 3s 8ms/step - loss: 0.3633 - val_loss: 0.3905\n",
      "Epoch 4/100\n",
      "317/317 [==============================] - 2s 8ms/step - loss: 0.3334 - val_loss: 0.3765\n",
      "Epoch 5/100\n",
      "317/317 [==============================] - 3s 8ms/step - loss: 0.3118 - val_loss: 0.3735\n",
      "Epoch 6/100\n",
      "317/317 [==============================] - 4s 12ms/step - loss: 0.2963 - val_loss: 0.3568\n",
      "Epoch 7/100\n",
      "317/317 [==============================] - 3s 10ms/step - loss: 0.2877 - val_loss: 0.3453\n",
      "Epoch 8/100\n",
      "317/317 [==============================] - 4s 12ms/step - loss: 0.2732 - val_loss: 0.3503\n",
      "Epoch 9/100\n",
      "317/317 [==============================] - 4s 13ms/step - loss: 0.2641 - val_loss: 0.3324\n",
      "Epoch 10/100\n",
      "317/317 [==============================] - 4s 12ms/step - loss: 0.2538 - val_loss: 0.3256\n",
      "Epoch 11/100\n",
      "317/317 [==============================] - 4s 13ms/step - loss: 0.2449 - val_loss: 0.3298\n",
      "Epoch 12/100\n",
      "317/317 [==============================] - 4s 12ms/step - loss: 0.2392 - val_loss: 0.3253\n",
      "Epoch 13/100\n",
      "317/317 [==============================] - 4s 13ms/step - loss: 0.2346 - val_loss: 0.3347\n",
      "Epoch 14/100\n",
      "317/317 [==============================] - 4s 13ms/step - loss: 0.2294 - val_loss: 0.3194\n",
      "Epoch 15/100\n",
      "317/317 [==============================] - 4s 13ms/step - loss: 0.2273 - val_loss: 0.3177\n",
      "Epoch 16/100\n",
      "317/317 [==============================] - 4s 13ms/step - loss: 0.2190 - val_loss: 0.3256\n",
      "Epoch 17/100\n",
      "317/317 [==============================] - 4s 13ms/step - loss: 0.2184 - val_loss: 0.3333\n",
      "Epoch 18/100\n",
      "317/317 [==============================] - 4s 12ms/step - loss: 0.2173 - val_loss: 0.3247\n",
      "Epoch 19/100\n",
      "317/317 [==============================] - 3s 10ms/step - loss: 0.2146 - val_loss: 0.3224\n",
      "Epoch 20/100\n",
      "317/317 [==============================] - 3s 8ms/step - loss: 0.2137 - val_loss: 0.3310\n",
      "Epoch 21/100\n",
      "317/317 [==============================] - 2s 8ms/step - loss: 0.2095 - val_loss: 0.3183\n",
      "Epoch 22/100\n",
      "317/317 [==============================] - 2s 5ms/step - loss: 0.2084 - val_loss: 0.3195\n",
      "Epoch 23/100\n",
      "317/317 [==============================] - 1s 4ms/step - loss: 0.2078 - val_loss: 0.3196\n",
      "Epoch 24/100\n",
      "317/317 [==============================] - 1s 4ms/step - loss: 0.2068 - val_loss: 0.3177\n",
      "Epoch 25/100\n",
      "317/317 [==============================] - 1s 4ms/step - loss: 0.2046 - val_loss: 0.3303\n",
      "Epoch 26/100\n",
      "317/317 [==============================] - 1s 4ms/step - loss: 0.2050 - val_loss: 0.3300\n",
      "Epoch 27/100\n",
      "317/317 [==============================] - 1s 4ms/step - loss: 0.2024 - val_loss: 0.3178\n",
      "Epoch 28/100\n",
      "317/317 [==============================] - 1s 4ms/step - loss: 0.2029 - val_loss: 0.3220\n",
      "Epoch 29/100\n",
      "317/317 [==============================] - 1s 4ms/step - loss: 0.2025 - val_loss: 0.3165\n",
      "Epoch 30/100\n",
      "317/317 [==============================] - 1s 4ms/step - loss: 0.2026 - val_loss: 0.3335\n",
      "Epoch 31/100\n",
      "317/317 [==============================] - 1s 4ms/step - loss: 0.2005 - val_loss: 0.3333\n",
      "Epoch 32/100\n",
      "317/317 [==============================] - 1s 5ms/step - loss: 0.1999 - val_loss: 0.3187\n",
      "Epoch 33/100\n",
      "317/317 [==============================] - 1s 4ms/step - loss: 0.1977 - val_loss: 0.3215\n",
      "Epoch 34/100\n",
      "317/317 [==============================] - 1s 4ms/step - loss: 0.1987 - val_loss: 0.3243\n",
      "Epoch 35/100\n",
      "317/317 [==============================] - 1s 4ms/step - loss: 0.2000 - val_loss: 0.3292\n",
      "Epoch 36/100\n",
      "317/317 [==============================] - 1s 4ms/step - loss: 0.1977 - val_loss: 0.3215\n",
      "Epoch 37/100\n",
      "317/317 [==============================] - 1s 4ms/step - loss: 0.1958 - val_loss: 0.3282\n",
      "Epoch 38/100\n",
      "317/317 [==============================] - 1s 4ms/step - loss: 0.1977 - val_loss: 0.3239\n",
      "Epoch 39/100\n",
      "317/317 [==============================] - 1s 4ms/step - loss: 0.1967 - val_loss: 0.3354\n",
      "Epoch 40/100\n",
      "317/317 [==============================] - 1s 4ms/step - loss: 0.1967 - val_loss: 0.3232\n",
      "Epoch 41/100\n",
      "317/317 [==============================] - 1s 4ms/step - loss: 0.1947 - val_loss: 0.3299\n",
      "Epoch 42/100\n",
      "317/317 [==============================] - 1s 4ms/step - loss: 0.1944 - val_loss: 0.3237\n",
      "Epoch 43/100\n",
      "317/317 [==============================] - 1s 4ms/step - loss: 0.1958 - val_loss: 0.3305\n",
      "Epoch 44/100\n",
      "317/317 [==============================] - 1s 4ms/step - loss: 0.1941 - val_loss: 0.3207\n",
      "Epoch 45/100\n",
      "317/317 [==============================] - 1s 4ms/step - loss: 0.1938 - val_loss: 0.3253\n",
      "Epoch 46/100\n",
      "317/317 [==============================] - 1s 4ms/step - loss: 0.1942 - val_loss: 0.3203\n",
      "Epoch 47/100\n",
      "317/317 [==============================] - 1s 4ms/step - loss: 0.1914 - val_loss: 0.3392\n",
      "Epoch 48/100\n",
      "317/317 [==============================] - 1s 4ms/step - loss: 0.1917 - val_loss: 0.3302\n",
      "Epoch 49/100\n",
      "317/317 [==============================] - 1s 4ms/step - loss: 0.1923 - val_loss: 0.3308\n",
      "Epoch 50/100\n",
      "317/317 [==============================] - 1s 4ms/step - loss: 0.1935 - val_loss: 0.3352\n",
      "Epoch 51/100\n",
      "317/317 [==============================] - 1s 4ms/step - loss: 0.1932 - val_loss: 0.3346\n",
      "Epoch 52/100\n",
      "317/317 [==============================] - 1s 4ms/step - loss: 0.1916 - val_loss: 0.3359\n",
      "Epoch 53/100\n",
      "317/317 [==============================] - 1s 4ms/step - loss: 0.1908 - val_loss: 0.3312\n",
      "Epoch 54/100\n",
      "317/317 [==============================] - 1s 4ms/step - loss: 0.1934 - val_loss: 0.3310\n",
      "Epoch 55/100\n",
      "317/317 [==============================] - 1s 4ms/step - loss: 0.1911 - val_loss: 0.3310\n",
      "Epoch 56/100\n",
      "317/317 [==============================] - 1s 4ms/step - loss: 0.1902 - val_loss: 0.3248\n",
      "Epoch 57/100\n",
      "317/317 [==============================] - 1s 4ms/step - loss: 0.1915 - val_loss: 0.3252\n",
      "Epoch 58/100\n",
      "317/317 [==============================] - 1s 4ms/step - loss: 0.1912 - val_loss: 0.3269\n",
      "Epoch 59/100\n",
      "317/317 [==============================] - 1s 4ms/step - loss: 0.1912 - val_loss: 0.3260\n",
      "Epoch 60/100\n",
      "317/317 [==============================] - 1s 4ms/step - loss: 0.1912 - val_loss: 0.3301\n",
      "Epoch 61/100\n",
      "317/317 [==============================] - 1s 4ms/step - loss: 0.1916 - val_loss: 0.3244\n",
      "Epoch 62/100\n",
      "317/317 [==============================] - 1s 4ms/step - loss: 0.1912 - val_loss: 0.3279\n",
      "Epoch 63/100\n",
      "317/317 [==============================] - 1s 4ms/step - loss: 0.1912 - val_loss: 0.3272\n",
      "Epoch 64/100\n",
      "317/317 [==============================] - 1s 4ms/step - loss: 0.1887 - val_loss: 0.3228\n",
      "Epoch 65/100\n",
      "317/317 [==============================] - 1s 4ms/step - loss: 0.1897 - val_loss: 0.3314\n",
      "Epoch 66/100\n",
      "317/317 [==============================] - 1s 4ms/step - loss: 0.1921 - val_loss: 0.3333\n",
      "Epoch 67/100\n",
      "317/317 [==============================] - 1s 4ms/step - loss: 0.1905 - val_loss: 0.3420\n",
      "Epoch 68/100\n",
      "317/317 [==============================] - 1s 4ms/step - loss: 0.1883 - val_loss: 0.3294\n",
      "Epoch 69/100\n",
      "317/317 [==============================] - 1s 4ms/step - loss: 0.1870 - val_loss: 0.3329\n",
      "Epoch 70/100\n",
      "317/317 [==============================] - 1s 4ms/step - loss: 0.1893 - val_loss: 0.3347\n",
      "Epoch 71/100\n",
      "317/317 [==============================] - 1s 4ms/step - loss: 0.1910 - val_loss: 0.3320\n",
      "Epoch 72/100\n",
      "317/317 [==============================] - 1s 4ms/step - loss: 0.1885 - val_loss: 0.3320\n",
      "Epoch 73/100\n",
      "317/317 [==============================] - 1s 4ms/step - loss: 0.1882 - val_loss: 0.3392\n",
      "Epoch 74/100\n",
      "317/317 [==============================] - 1s 4ms/step - loss: 0.1886 - val_loss: 0.3366\n",
      "Epoch 75/100\n",
      "317/317 [==============================] - 1s 4ms/step - loss: 0.1878 - val_loss: 0.3319\n",
      "Epoch 76/100\n",
      "317/317 [==============================] - 2s 5ms/step - loss: 0.1902 - val_loss: 0.3314\n",
      "Epoch 77/100\n",
      "317/317 [==============================] - 1s 5ms/step - loss: 0.1863 - val_loss: 0.3290\n",
      "Epoch 78/100\n",
      "317/317 [==============================] - 1s 4ms/step - loss: 0.1877 - val_loss: 0.3392\n",
      "Epoch 79/100\n",
      "317/317 [==============================] - 1s 4ms/step - loss: 0.1894 - val_loss: 0.3258\n",
      "Epoch 80/100\n",
      "317/317 [==============================] - 1s 4ms/step - loss: 0.1878 - val_loss: 0.3236\n",
      "Epoch 81/100\n"
     ]
    },
    {
     "name": "stdout",
     "output_type": "stream",
     "text": [
      "317/317 [==============================] - 1s 4ms/step - loss: 0.1876 - val_loss: 0.3333\n",
      "Epoch 82/100\n",
      "317/317 [==============================] - 1s 4ms/step - loss: 0.1877 - val_loss: 0.3313\n",
      "Epoch 83/100\n",
      "317/317 [==============================] - 1s 4ms/step - loss: 0.1876 - val_loss: 0.3345\n",
      "Epoch 84/100\n",
      "317/317 [==============================] - 1s 4ms/step - loss: 0.1884 - val_loss: 0.3262\n",
      "Epoch 85/100\n",
      "317/317 [==============================] - 1s 4ms/step - loss: 0.1890 - val_loss: 0.3322\n",
      "Epoch 86/100\n",
      "317/317 [==============================] - 1s 4ms/step - loss: 0.1870 - val_loss: 0.3272\n",
      "Epoch 87/100\n",
      "317/317 [==============================] - 1s 4ms/step - loss: 0.1857 - val_loss: 0.3266\n",
      "Epoch 88/100\n",
      "317/317 [==============================] - 1s 4ms/step - loss: 0.1870 - val_loss: 0.3292\n",
      "Epoch 89/100\n",
      "317/317 [==============================] - 1s 4ms/step - loss: 0.1863 - val_loss: 0.3376\n",
      "Epoch 90/100\n",
      "317/317 [==============================] - 1s 4ms/step - loss: 0.1871 - val_loss: 0.3262\n",
      "Epoch 91/100\n",
      "317/317 [==============================] - 1s 4ms/step - loss: 0.1852 - val_loss: 0.3286\n",
      "Epoch 92/100\n",
      "317/317 [==============================] - 1s 4ms/step - loss: 0.1857 - val_loss: 0.3310\n",
      "Epoch 93/100\n",
      "317/317 [==============================] - 1s 5ms/step - loss: 0.1870 - val_loss: 0.3273\n",
      "Epoch 94/100\n",
      "317/317 [==============================] - 1s 4ms/step - loss: 0.1874 - val_loss: 0.3297\n",
      "Epoch 95/100\n",
      "317/317 [==============================] - 1s 4ms/step - loss: 0.1859 - val_loss: 0.3294\n",
      "Epoch 96/100\n",
      "317/317 [==============================] - 1s 4ms/step - loss: 0.1860 - val_loss: 0.3367\n",
      "Epoch 97/100\n",
      "317/317 [==============================] - 1s 4ms/step - loss: 0.1851 - val_loss: 0.3346\n",
      "Epoch 98/100\n",
      "317/317 [==============================] - 1s 4ms/step - loss: 0.1879 - val_loss: 0.3280\n",
      "Epoch 99/100\n",
      "317/317 [==============================] - 1s 4ms/step - loss: 0.1860 - val_loss: 0.3389\n",
      "Epoch 100/100\n",
      "317/317 [==============================] - 1s 4ms/step - loss: 0.1869 - val_loss: 0.3369\n"
     ]
    }
   ],
   "source": [
    "model = Sequential([\n",
    "    Dense(598,'relu',kernel_regularizer = regularizers.L2(1e-3)),\n",
    "    Dense(54,'relu',kernel_regularizer = regularizers.L2(1e-3)),\n",
    "    Dense(1,'linear',kernel_regularizer = regularizers.L2(1e-3))\n",
    "])\n",
    "\n",
    "model.compile(loss=BinaryCrossentropy(from_logits = True),optimizer = tf.keras.optimizers.Adam(learning_rate=0.001))\n",
    "history = model.fit(X_train,Y_train,epochs=100,batch_size=64, validation_data=(X_test, Y_test))"
   ]
  },
  {
   "cell_type": "markdown",
   "id": "89915356",
   "metadata": {},
   "source": [
    "Printing model summary"
   ]
  },
  {
   "cell_type": "code",
   "execution_count": 23,
   "id": "abf60e75",
   "metadata": {},
   "outputs": [
    {
     "name": "stdout",
     "output_type": "stream",
     "text": [
      "Model: \"sequential_3\"\n",
      "_________________________________________________________________\n",
      " Layer (type)                Output Shape              Param #   \n",
      "=================================================================\n",
      " dense_3 (Dense)             (None, 598)               358202    \n",
      "                                                                 \n",
      " dense_4 (Dense)             (None, 54)                32346     \n",
      "                                                                 \n",
      " dense_5 (Dense)             (None, 1)                 55        \n",
      "                                                                 \n",
      "=================================================================\n",
      "Total params: 390,603\n",
      "Trainable params: 390,603\n",
      "Non-trainable params: 0\n",
      "_________________________________________________________________\n"
     ]
    }
   ],
   "source": [
    "model.summary()"
   ]
  },
  {
   "cell_type": "code",
   "execution_count": 24,
   "id": "b9f86415",
   "metadata": {},
   "outputs": [
    {
     "data": {
      "image/png": "[encoded data removed]",
      "text/plain": [
       "<Figure size 640x480 with 1 Axes>"
      ]
     },
     "metadata": {},
     "output_type": "display_data"
    }
   ],
   "source": [
    "# Plot training and validation loss\n",
    "plt.plot(history.history['loss'], label='Training Loss')\n",
    "plt.plot(history.history['val_loss'], label='Validation Loss')\n",
    "plt.xlabel('Epoch')\n",
    "plt.ylabel('Loss')\n",
    "plt.title('Training and Validation Loss')\n",
    "plt.legend()\n",
    "plt.show()"
   ]
  },
  {
   "cell_type": "markdown",
   "id": "c62921cd",
   "metadata": {},
   "source": [
    "Predicting using test dataset, and printing F1 score, precision, recall, accuracy"
   ]
  },
  {
   "cell_type": "code",
   "execution_count": 25,
   "id": "fdcdc6d5",
   "metadata": {},
   "outputs": [
    {
     "name": "stdout",
     "output_type": "stream",
     "text": [
      "312/312 [==============================] - 0s 1ms/step\n",
      "F1 score: 0.9081048508586924\n",
      "Precision:  0.9203990228013029\n",
      "Recall:  0.8961347869177403\n",
      "Accuracy:  0.9082706766917293\n"
     ]
    }
   ],
   "source": [
    "Y_pred = model.predict(X_test)\n",
    "Y_pred = tf.nn.sigmoid(Y_pred)\n",
    "Y_pred = Y_pred.numpy()\n",
    "Y_pred = np.where(Y_pred<=0.5,0,1)\n",
    "f1 = f1_score(Y_test, Y_pred)\n",
    "precision = precision_score(Y_test,Y_pred)\n",
    "recall = recall_score(Y_test,Y_pred)\n",
    "accuracy = accuracy_score(Y_test, Y_pred)\n",
    "print(\"F1 score:\", f1)\n",
    "print(\"Precision: \", precision)\n",
    "print(\"Recall: \",recall)\n",
    "print(\"Accuracy: \",accuracy)"
   ]
  },
  {
   "cell_type": "markdown",
   "id": "79b6c788",
   "metadata": {},
   "source": [
    "Defining a function to predict the gender, given 2d numpy array of names"
   ]
  },
  {
   "cell_type": "code",
   "execution_count": 26,
   "id": "90e13bb5",
   "metadata": {},
   "outputs": [],
   "source": [
    "def predict(x_user):\n",
    "    x_user = one_hot_encoding(name,23)\n",
    "    x_user = normalized_model(x_user).numpy()\n",
    "    x_user = x_user.reshape(x_user.shape[0],23*26)\n",
    "    y_user = model.predict(x_user)\n",
    "    y_user = tf.nn.sigmoid(y_user)\n",
    "    y_user = y_user.numpy()\n",
    "    #print(y_user)\n",
    "    y_user = np.where(y_user>0.5,'F','M')\n",
    "    return y_user"
   ]
  },
  {
   "cell_type": "markdown",
   "id": "7ec2d013",
   "metadata": {},
   "source": [
    "Predicting the gender, based on name by calling predict function and print name and gender"
   ]
  },
  {
   "cell_type": "code",
   "execution_count": 27,
   "id": "e5ac5837",
   "metadata": {},
   "outputs": [
    {
     "name": "stdout",
     "output_type": "stream",
     "text": [
      "1/1 [==============================] - 0s 14ms/step\n",
      "Sweta\tF\n",
      "Shubham\tM\n",
      "Rohit\tM\n",
      "Anchal\tF\n",
      "Sakshi\tF\n",
      "Rahul\tM\n",
      "Gaurishankar\tM\n",
      "Radhe\tM\n",
      "Radha\tF\n",
      "Aryan\tM\n",
      "Ashwin\tM\n",
      "laddu\tM\n",
      "Nishtha\tF\n"
     ]
    }
   ],
   "source": [
    "name = np.array([['Sweta'],['Shubham'],['Rohit'],['Anchal'],\n",
    "                 ['Sakshi'],['Rahul'],['Gaurishankar'],\n",
    "                 ['Radhe'],['Radha'],['Aryan'],['Ashwin'],['laddu'],['Nishtha']])\n",
    "gender = predict(name)\n",
    "for i in range(name.shape[0]):\n",
    "    print(f'{name[i,0]}\\t{gender[i,0]}')"
   ]
  },
  {
   "cell_type": "code",
   "execution_count": 17,
   "id": "c5ee5e54",
   "metadata": {},
   "outputs": [
    {
     "name": "stdout",
     "output_type": "stream",
     "text": [
      "INFO:tensorflow:Assets written to: name_gender_model\\assets\n",
      "INFO:tensorflow:Assets written to: ng_normalized_model\\assets\n"
     ]
    }
   ],
   "source": [
    "model.save('name_gender_model')\n",
    "normalized_model.save(\"ng_normalized_model\")"
   ]
  },
  {
   "cell_type": "code",
   "execution_count": null,
   "id": "1a00296e",
   "metadata": {},
   "outputs": [],
   "source": []
  }
 ],
 "metadata": {
  "kernelspec": {
   "display_name": "Python 3 (ipykernel)",
   "language": "python",
   "name": "python3"
  },
  "language_info": {
   "codemirror_mode": {
    "name": "ipython",
    "version": 3
   },
   "file_extension": ".py",
   "mimetype": "text/x-python",
   "name": "python",
   "nbconvert_exporter": "python",
   "pygments_lexer": "ipython3",
   "version": "3.10.12"
  }
 },
 "nbformat": 4,
 "nbformat_minor": 5
}
